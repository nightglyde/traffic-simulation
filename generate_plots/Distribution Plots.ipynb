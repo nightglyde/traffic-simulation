{
 "cells": [
  {
   "cell_type": "code",
   "execution_count": 1,
   "metadata": {},
   "outputs": [],
   "source": [
    "import matplotlib\n",
    "import matplotlib.pyplot as plt\n",
    "import numpy as np\n",
    "import pandas as pd\n",
    "\n",
    "def createDistributionPlot(turn_ratio, density, ax=None, batch=False):\n",
    "    \n",
    "    filename = \"../results/compiled_results/distribution_dataset_1x1_50_{}_{}.txt\".format(density,\n",
    "                                                                                                  turn_ratio)\n",
    "    \n",
    "    df = pd.read_csv(filename, delimiter=\" \", header=None)\n",
    "\n",
    "    df.columns = [\n",
    "        \"Traffic Lights\",\n",
    "        \"Virtual Traffic Lights\",\n",
    "        \"Clique-Based Traffic Controller\",\n",
    "        \"Modified CBTC\"\n",
    "    ]\n",
    "\n",
    "    df.drop(columns=[\n",
    "        #\"Traffic Lights\",\n",
    "        #\"Virtual Traffic Lights\",\n",
    "        #\"Clique-Based Traffic Controller\",\n",
    "        \"Modified CBTC\"\n",
    "    ], inplace=True)\n",
    "    \n",
    "    if ax == None:\n",
    "        ax = df.plot(figsize=(7, 5), kind='hist', alpha=0.5, bins=100)\n",
    "    else:\n",
    "        df.plot(ax=ax, kind='hist', alpha=0.5, bins=100)\n",
    "\n",
    "    ax.set_title(\"Distribution of Journey Durations in Traffic with Density\\n{} Cars per Minute\".format(density))\n",
    "    ax.set_xlabel(\"Journey Duration (seconds)\")\n",
    "\n",
    "    if not batch:\n",
    "        plt.savefig(\"plots/distribution_plot_1x1_50_{}_{}.pdf\".format(density, turn_ratio))\n"
   ]
  },
  {
   "cell_type": "code",
   "execution_count": 2,
   "metadata": {},
   "outputs": [
    {
     "data": {
      "image/png": "[encoded data removed]",
      "text/plain": [
       "<Figure size 504x360 with 1 Axes>"
      ]
     },
     "metadata": {
      "needs_background": "light"
     },
     "output_type": "display_data"
    }
   ],
   "source": [
    "createDistributionPlot(\"111\", \"100\")"
   ]
  },
  {
   "cell_type": "code",
   "execution_count": 3,
   "metadata": {},
   "outputs": [
    {
     "data": {
      "text/plain": [
       "{'eps': 'Encapsulated Postscript',\n",
       " 'pdf': 'Portable Document Format',\n",
       " 'pgf': 'PGF code for LaTeX',\n",
       " 'png': 'Portable Network Graphics',\n",
       " 'ps': 'Postscript',\n",
       " 'raw': 'Raw RGBA bitmap',\n",
       " 'rgba': 'Raw RGBA bitmap',\n",
       " 'svg': 'Scalable Vector Graphics',\n",
       " 'svgz': 'Scalable Vector Graphics'}"
      ]
     },
     "execution_count": 3,
     "metadata": {},
     "output_type": "execute_result"
    },
    {
     "data": {
      "text/plain": [
       "<Figure size 432x288 with 0 Axes>"
      ]
     },
     "metadata": {},
     "output_type": "display_data"
    }
   ],
   "source": [
    "plt.gcf().canvas.get_supported_filetypes()"
   ]
  },
  {
   "cell_type": "code",
   "execution_count": null,
   "metadata": {},
   "outputs": [],
   "source": []
  }
 ],
 "metadata": {
  "kernelspec": {
   "display_name": "Python 3",
   "language": "python",
   "name": "python3"
  },
  "language_info": {
   "codemirror_mode": {
    "name": "ipython",
    "version": 3
   },
   "file_extension": ".py",
   "mimetype": "text/x-python",
   "name": "python",
   "nbconvert_exporter": "python",
   "pygments_lexer": "ipython3",
   "version": "3.5.2"
  }
 },
 "nbformat": 4,
 "nbformat_minor": 2
}
